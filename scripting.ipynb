{
 "cells": [
  {
   "cell_type": "markdown",
   "id": "e8522777-99fc-4f78-b146-9d6ab6aef20b",
   "metadata": {},
   "source": [
    "# Scripting Text (.txt) Files into Excel (.xlsx) Files With Python"
   ]
  },
  {
   "cell_type": "markdown",
   "id": "5b528656-c357-4778-a196-ab871290d636",
   "metadata": {},
   "source": [
    "### Creating a Scripting Function based on the data"
   ]
  },
  {
   "cell_type": "code",
   "execution_count": 1,
   "id": "dcec0445-7a06-4e16-ab2e-52189ba70af0",
   "metadata": {},
   "outputs": [],
   "source": [
    "import os\n",
    "import openpyxl\n",
    "\n",
    "def process_text_file(file_path):\n",
    "    workbook = openpyxl.Workbook()\n",
    "    worksheet = workbook.active\n",
    "    worksheet.title = \"Fncn Lines\"\n",
    "    column_titles = [\"WaldFcns\", \"Function\", \"Standard Error\", \"z\", \"Prob. |z|>Z*\", \"95% Confidence Interval\"]\n",
    "\n",
    "    #Column titles to the first row of the worksheet\n",
    "    for col_num, title in enumerate(column_titles, start=1):\n",
    "        worksheet.cell(row=1, column=col_num).value = title\n",
    "\n",
    "    #Opening the file and reading its contents\n",
    "    with open(file_path, \"r\") as file:\n",
    "        \n",
    "        row_num = 2\n",
    "        \n",
    "        for line in file:\n",
    "            if \"Fncn(1)\" in line or \"Fncn(2)\" in line or \"Fncn(3)\" in line:\n",
    "                line_data = [cell.strip() for cell in line.split(\" \") if cell.strip()]\n",
    "                col_num = 1\n",
    "                for cell_data in line_data:\n",
    "                    worksheet.cell(row=row_num, column=col_num).value = cell_data\n",
    "                    col_num += 1\n",
    "                    \n",
    "                row_num += 1\n",
    "\n",
    "    #Saving the workbook to a file\n",
    "    file_name = os.path.splitext(os.path.basename(file_path))[0]\n",
    "    excel_file_path = os.path.join(\"output_folder\", file_name + \".xlsx\")\n",
    "    workbook.save(excel_file_path)\n"
   ]
  },
  {
   "cell_type": "markdown",
   "id": "6464ae0a-3281-41bd-abac-0c56223254d3",
   "metadata": {},
   "source": [
    "### Using the Function to scrap data"
   ]
  },
  {
   "cell_type": "code",
   "execution_count": 5,
   "id": "10e45b0d-efb6-4728-b69a-39a2a122ce3e",
   "metadata": {},
   "outputs": [
    {
     "name": "stdin",
     "output_type": "stream",
     "text": [
      "File path:  C:/Users/twumi/New_GA/Whitehead\n"
     ]
    },
    {
     "name": "stdout",
     "output_type": "stream",
     "text": [
      "\n",
      "Done!\n"
     ]
    }
   ],
   "source": [
    "# Specify the path to the folder\n",
    "folder_path = input(\"File path: \")    # \"C:/Users/twumi/New_GA/Whitehead\"\n",
    "\n",
    "output_folder = \"output_folder\"\n",
    "if not os.path.exists(output_folder):\n",
    "    os.makedirs(output_folder)\n",
    "\n",
    "# Iterate over each file in the folder\n",
    "for file_name in os.listdir(folder_path):\n",
    "    if file_name.endswith(\".txt\"):\n",
    "        file_path = os.path.join(folder_path, file_name)\n",
    "        process_text_file(file_path)\n",
    "\n",
    "print(\"\\nDone!\")"
   ]
  },
  {
   "cell_type": "markdown",
   "id": "09d33f24-9729-42b2-8f93-632e7f15570b",
   "metadata": {},
   "source": [
    "### Merging the Files into one "
   ]
  },
  {
   "cell_type": "code",
   "execution_count": 6,
   "id": "7af2069a-8af7-4c29-a2fb-4d170a22a0f1",
   "metadata": {
    "tags": []
   },
   "outputs": [
    {
     "data": {
      "text/html": [
       "<div>\n",
       "<style scoped>\n",
       "    .dataframe tbody tr th:only-of-type {\n",
       "        vertical-align: middle;\n",
       "    }\n",
       "\n",
       "    .dataframe tbody tr th {\n",
       "        vertical-align: top;\n",
       "    }\n",
       "\n",
       "    .dataframe thead th {\n",
       "        text-align: right;\n",
       "    }\n",
       "</style>\n",
       "<table border=\"1\" class=\"dataframe\">\n",
       "  <thead>\n",
       "    <tr style=\"text-align: right;\">\n",
       "      <th></th>\n",
       "      <th>Dataset Name</th>\n",
       "      <th>Value1</th>\n",
       "      <th>Value2</th>\n",
       "      <th>Value3</th>\n",
       "      <th>Value4</th>\n",
       "      <th>Value5</th>\n",
       "      <th>Value6</th>\n",
       "      <th>Value7</th>\n",
       "      <th>Value8</th>\n",
       "    </tr>\n",
       "  </thead>\n",
       "  <tbody>\n",
       "    <tr>\n",
       "      <th>0</th>\n",
       "      <td>Alberini A</td>\n",
       "      <td>197.244***</td>\n",
       "      <td>16.51999</td>\n",
       "      <td>219.942***</td>\n",
       "      <td>23.71971</td>\n",
       "      <td>204.672***</td>\n",
       "      <td>27.47831</td>\n",
       "      <td>202.376***</td>\n",
       "      <td>19.54623</td>\n",
       "    </tr>\n",
       "    <tr>\n",
       "      <th>1</th>\n",
       "      <td>Alberini B</td>\n",
       "      <td>58.0359***</td>\n",
       "      <td>5.78517</td>\n",
       "      <td>96.3604***</td>\n",
       "      <td>9.46433</td>\n",
       "      <td>41.5079***</td>\n",
       "      <td>5.18096</td>\n",
       "      <td>80.4237***</td>\n",
       "      <td>7.11431</td>\n",
       "    </tr>\n",
       "    <tr>\n",
       "      <th>2</th>\n",
       "      <td>Alberini C</td>\n",
       "      <td>61.9924***</td>\n",
       "      <td>8.0487</td>\n",
       "      <td>114.162***</td>\n",
       "      <td>17.73995</td>\n",
       "      <td>48.7613***</td>\n",
       "      <td>12.91042</td>\n",
       "      <td>92.9391***</td>\n",
       "      <td>13.53409</td>\n",
       "    </tr>\n",
       "    <tr>\n",
       "      <th>3</th>\n",
       "      <td>Alolayan A</td>\n",
       "      <td>1592.34***</td>\n",
       "      <td>211.8248</td>\n",
       "      <td>2115.70***</td>\n",
       "      <td>293.557</td>\n",
       "      <td>1134.08***</td>\n",
       "      <td>245.6943</td>\n",
       "      <td>1842.25***</td>\n",
       "      <td>233.4662</td>\n",
       "    </tr>\n",
       "    <tr>\n",
       "      <th>4</th>\n",
       "      <td>Alolayan B</td>\n",
       "      <td>1697.77***</td>\n",
       "      <td>226.0892</td>\n",
       "      <td>2221.11***</td>\n",
       "      <td>319.5972</td>\n",
       "      <td>1255.41***</td>\n",
       "      <td>267.4232</td>\n",
       "      <td>1936.55***</td>\n",
       "      <td>256.1233</td>\n",
       "    </tr>\n",
       "  </tbody>\n",
       "</table>\n",
       "</div>"
      ],
      "text/plain": [
       "  Dataset Name      Value1    Value2      Value3    Value4      Value5  \\\n",
       "0   Alberini A  197.244***  16.51999  219.942***  23.71971  204.672***   \n",
       "1   Alberini B  58.0359***   5.78517  96.3604***   9.46433  41.5079***   \n",
       "2   Alberini C  61.9924***    8.0487  114.162***  17.73995  48.7613***   \n",
       "3   Alolayan A  1592.34***  211.8248  2115.70***   293.557  1134.08***   \n",
       "4   Alolayan B  1697.77***  226.0892  2221.11***  319.5972  1255.41***   \n",
       "\n",
       "     Value6      Value7    Value8  \n",
       "0  27.47831  202.376***  19.54623  \n",
       "1   5.18096  80.4237***   7.11431  \n",
       "2  12.91042  92.9391***  13.53409  \n",
       "3  245.6943  1842.25***  233.4662  \n",
       "4  267.4232  1936.55***  256.1233  "
      ]
     },
     "execution_count": 6,
     "metadata": {},
     "output_type": "execute_result"
    }
   ],
   "source": [
    "import pandas as pd\n",
    "\n",
    "output_folder = \"output_folder\"\n",
    "\n",
    "# All the Excel files in the folder\n",
    "excel_files = [file for file in os.listdir(output_folder) if file.endswith(\".xlsx\")]\n",
    "\n",
    "# Creating a DataFrame to store the merged data\n",
    "merged_data = pd.DataFrame(columns=[\"Dataset Name\", \"Value1\", \"Value2\", \"Value3\", \"Value4\", \"Value5\", \"Value6\", \"Value7\"])\n",
    "\n",
    "dataframes = []\n",
    "\n",
    "for excel_file in excel_files:\n",
    "    dataset_name = os.path.splitext(excel_file)[0]\n",
    "\n",
    "    file_path = os.path.join(output_folder, excel_file)\n",
    "    df = pd.read_excel(file_path)\n",
    "    \n",
    "    value1 = df.iloc[0, 1]\n",
    "    value2 = df.iloc[0, 2]\n",
    "    value3 = df.iloc[1, 1]\n",
    "    value4 = df.iloc[1, 2]\n",
    "    value5 = df.iloc[3, 1]\n",
    "    value6 = df.iloc[3, 2]\n",
    "    value7 = df.iloc[5, 1]\n",
    "    value8 = df.iloc[5, 2]\n",
    "    \n",
    "    dataframes.append({\"Dataset Name\": dataset_name, \n",
    "                              \"Value1\": value1, \n",
    "                              \"Value2\": value2, \n",
    "                              \"Value3\": value3, \n",
    "                              \"Value4\": value4, \n",
    "                              \"Value5\": value5, \n",
    "                              \"Value6\": value6,\n",
    "                              \"Value7\": value7,\n",
    "                              \"Value8\": value8})\n",
    "\n",
    "merged_data = pd.DataFrame(dataframes)\n",
    "\n",
    "merged_data.head()"
   ]
  },
  {
   "cell_type": "markdown",
   "id": "d6796f2c-1ad5-49c0-abaa-e23cdf198533",
   "metadata": {},
   "source": [
    "### Removing asterisks from the DataFrame"
   ]
  },
  {
   "cell_type": "code",
   "execution_count": 7,
   "id": "9d72cbac-bbdd-4089-b001-9c3c41703eaf",
   "metadata": {
    "tags": []
   },
   "outputs": [
    {
     "name": "stdout",
     "output_type": "stream",
     "text": [
      "Done!\n",
      "Saved to 'script_data.xlsx'\n"
     ]
    }
   ],
   "source": [
    "for column in merged_data.columns:\n",
    "    merged_data[column] = merged_data[column].astype(str).str.replace(\"*\", \"\")\n",
    "\n",
    "# Saving the DataFrame into an Excel file\n",
    "merged_data.to_excel(\"script_data.xlsx\", index=False)\n",
    "\n",
    "print(\"Done!\")\n",
    "print(\"Saved to 'script_data.xlsx'\")"
   ]
  },
  {
   "cell_type": "code",
   "execution_count": null,
   "id": "f5bb5179-0bb9-49c2-bfb4-ffddbaac72e0",
   "metadata": {},
   "outputs": [],
   "source": []
  }
 ],
 "metadata": {
  "kernelspec": {
   "display_name": "Python 3 (ipykernel)",
   "language": "python",
   "name": "python3"
  },
  "language_info": {
   "codemirror_mode": {
    "name": "ipython",
    "version": 3
   },
   "file_extension": ".py",
   "mimetype": "text/x-python",
   "name": "python",
   "nbconvert_exporter": "python",
   "pygments_lexer": "ipython3",
   "version": "3.11.5"
  }
 },
 "nbformat": 4,
 "nbformat_minor": 5
}
