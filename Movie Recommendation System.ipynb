{
 "cells": [
  {
   "cell_type": "markdown",
   "metadata": {
    "tags": []
   },
   "source": [
    "<h2 style=\"text-align: center;\"> Movie Recommendation System </h2>\n",
    "\n",
    "<b>Goal:</b>\n",
    "<p style=\"text-align: justify;\"> Recommender systems have become integral to various online platforms, providing personalized suggestions to users across a wide range of entities such as products, movies, and services. Examples include Amazon's product recommendations, Netflix's movie suggestions, and YouTube's video recommendations.</p>\n",
    "\n",
    "<p style=\"text-align: justify;\">\n",
    "There are different types of recommender systems such as Collaborative filtering methods, which rely on past user-item interactions, Content-based recommenders which leverage metadata associated with items to suggest similar items of interest, and Simple Rule-based recommenders which is based on global metrics like popularity, global ratings etc.</p>\n",
    "\n",
    "<p style=\"text-align: justify;\">\n",
    "In this project, my focus is on building a Content-based movie recommendation system using Natural Language Processing (NLP) techniques. By analyzing textual features such as movie descriptions, genres, and titles, I aim to recommend movies that share similar characteristics with specific movies of interest tailored towards user preferences and tastes. </p>\n",
    "\n",
    "<img src=\"minions.jpg\" alt=\"netflix_recommendation\" style=\"width:800px\">"
   ]
  },
  {
   "cell_type": "markdown",
   "metadata": {},
   "source": [
    "### Libraries Used\n"
   ]
  },
  {
   "cell_type": "code",
   "execution_count": 1,
   "metadata": {
    "tags": []
   },
   "outputs": [],
   "source": [
    "import pandas as pd\n",
    "import numpy as np\n",
    "\n",
    "import nltk\n",
    "import re\n",
    "\n",
    "from sklearn.feature_extraction.text import TfidfVectorizer\n",
    "from sklearn.metrics.pairwise import cosine_similarity\n"
   ]
  },
  {
   "cell_type": "markdown",
   "metadata": {},
   "source": [
    "### Loading dataset"
   ]
  },
  {
   "cell_type": "code",
   "execution_count": 2,
   "metadata": {
    "tags": []
   },
   "outputs": [
    {
     "name": "stdout",
     "output_type": "stream",
     "text": [
      "<class 'pandas.core.frame.DataFrame'>\n",
      "RangeIndex: 4803 entries, 0 to 4802\n",
      "Data columns (total 20 columns):\n",
      " #   Column                Non-Null Count  Dtype  \n",
      "---  ------                --------------  -----  \n",
      " 0   budget                4803 non-null   int64  \n",
      " 1   genres                4803 non-null   object \n",
      " 2   homepage              1712 non-null   object \n",
      " 3   id                    4803 non-null   int64  \n",
      " 4   keywords              4803 non-null   object \n",
      " 5   original_language     4803 non-null   object \n",
      " 6   original_title        4803 non-null   object \n",
      " 7   overview              4800 non-null   object \n",
      " 8   popularity            4803 non-null   float64\n",
      " 9   production_companies  4803 non-null   object \n",
      " 10  production_countries  4803 non-null   object \n",
      " 11  release_date          4802 non-null   object \n",
      " 12  revenue               4803 non-null   int64  \n",
      " 13  runtime               4801 non-null   float64\n",
      " 14  spoken_languages      4803 non-null   object \n",
      " 15  status                4803 non-null   object \n",
      " 16  tagline               3959 non-null   object \n",
      " 17  title                 4803 non-null   object \n",
      " 18  vote_average          4803 non-null   float64\n",
      " 19  vote_count            4803 non-null   int64  \n",
      "dtypes: float64(3), int64(4), object(13)\n",
      "memory usage: 750.6+ KB\n"
     ]
    },
    {
     "data": {
      "text/plain": [
       "None"
      ]
     },
     "metadata": {},
     "output_type": "display_data"
    }
   ],
   "source": [
    "df = pd.read_csv('movies.csv')\n",
    "display(df.info())"
   ]
  },
  {
   "cell_type": "markdown",
   "metadata": {},
   "source": [
    "### Selecting necessaary columns"
   ]
  },
  {
   "cell_type": "code",
   "execution_count": 3,
   "metadata": {
    "tags": []
   },
   "outputs": [
    {
     "name": "stdout",
     "output_type": "stream",
     "text": [
      "<class 'pandas.core.frame.DataFrame'>\n",
      "RangeIndex: 4803 entries, 0 to 4802\n",
      "Data columns (total 5 columns):\n",
      " #   Column      Non-Null Count  Dtype  \n",
      "---  ------      --------------  -----  \n",
      " 0   title       4803 non-null   object \n",
      " 1   tagline     3959 non-null   object \n",
      " 2   overview    4800 non-null   object \n",
      " 3   genres      4803 non-null   object \n",
      " 4   popularity  4803 non-null   float64\n",
      "dtypes: float64(1), object(4)\n",
      "memory usage: 187.7+ KB\n"
     ]
    },
    {
     "data": {
      "text/plain": [
       "None"
      ]
     },
     "metadata": {},
     "output_type": "display_data"
    }
   ],
   "source": [
    "df = df[['title', 'tagline', 'overview', 'genres', 'popularity']]\n",
    "\n",
    "display(df.info())"
   ]
  },
  {
   "cell_type": "markdown",
   "metadata": {},
   "source": [
    "### Creating a new column, \"Description\" by adding 'tagline' and 'overview'"
   ]
  },
  {
   "cell_type": "code",
   "execution_count": 4,
   "metadata": {
    "tags": []
   },
   "outputs": [
    {
     "name": "stdout",
     "output_type": "stream",
     "text": [
      "<class 'pandas.core.frame.DataFrame'>\n",
      "RangeIndex: 4803 entries, 0 to 4802\n",
      "Data columns (total 6 columns):\n",
      " #   Column       Non-Null Count  Dtype  \n",
      "---  ------       --------------  -----  \n",
      " 0   title        4803 non-null   object \n",
      " 1   tagline      3959 non-null   object \n",
      " 2   overview     4800 non-null   object \n",
      " 3   genres       4803 non-null   object \n",
      " 4   popularity   4803 non-null   float64\n",
      " 5   description  4800 non-null   object \n",
      "dtypes: float64(1), object(5)\n",
      "memory usage: 225.3+ KB\n"
     ]
    },
    {
     "data": {
      "text/plain": [
       "None"
      ]
     },
     "metadata": {},
     "output_type": "display_data"
    }
   ],
   "source": [
    "df['description'] = df['tagline'].map(str) + ' ' + df['overview']\n",
    "\n",
    "display (df.info())"
   ]
  },
  {
   "cell_type": "markdown",
   "metadata": {},
   "source": [
    "### Dealing with missing values"
   ]
  },
  {
   "cell_type": "code",
   "execution_count": 5,
   "metadata": {
    "tags": []
   },
   "outputs": [
    {
     "name": "stdout",
     "output_type": "stream",
     "text": [
      "<class 'pandas.core.frame.DataFrame'>\n",
      "Index: 4800 entries, 0 to 4802\n",
      "Data columns (total 6 columns):\n",
      " #   Column       Non-Null Count  Dtype  \n",
      "---  ------       --------------  -----  \n",
      " 0   title        4800 non-null   object \n",
      " 1   tagline      4800 non-null   object \n",
      " 2   overview     4800 non-null   object \n",
      " 3   genres       4800 non-null   object \n",
      " 4   popularity   4800 non-null   float64\n",
      " 5   description  4800 non-null   object \n",
      "dtypes: float64(1), object(5)\n",
      "memory usage: 262.5+ KB\n"
     ]
    },
    {
     "data": {
      "text/plain": [
       "None"
      ]
     },
     "metadata": {},
     "output_type": "display_data"
    },
    {
     "data": {
      "text/html": [
       "<div>\n",
       "<style scoped>\n",
       "    .dataframe tbody tr th:only-of-type {\n",
       "        vertical-align: middle;\n",
       "    }\n",
       "\n",
       "    .dataframe tbody tr th {\n",
       "        vertical-align: top;\n",
       "    }\n",
       "\n",
       "    .dataframe thead th {\n",
       "        text-align: right;\n",
       "    }\n",
       "</style>\n",
       "<table border=\"1\" class=\"dataframe\">\n",
       "  <thead>\n",
       "    <tr style=\"text-align: right;\">\n",
       "      <th></th>\n",
       "      <th>title</th>\n",
       "      <th>tagline</th>\n",
       "      <th>overview</th>\n",
       "      <th>genres</th>\n",
       "      <th>popularity</th>\n",
       "      <th>description</th>\n",
       "    </tr>\n",
       "  </thead>\n",
       "  <tbody>\n",
       "    <tr>\n",
       "      <th>0</th>\n",
       "      <td>Avatar</td>\n",
       "      <td>Enter the World of Pandora.</td>\n",
       "      <td>In the 22nd century, a paraplegic Marine is di...</td>\n",
       "      <td>[{\"id\": 28, \"name\": \"Action\"}, {\"id\": 12, \"nam...</td>\n",
       "      <td>150.437577</td>\n",
       "      <td>Enter the World of Pandora. In the 22nd centur...</td>\n",
       "    </tr>\n",
       "    <tr>\n",
       "      <th>1</th>\n",
       "      <td>Pirates of the Caribbean: At World's End</td>\n",
       "      <td>At the end of the world, the adventure begins.</td>\n",
       "      <td>Captain Barbossa, long believed to be dead, ha...</td>\n",
       "      <td>[{\"id\": 12, \"name\": \"Adventure\"}, {\"id\": 14, \"...</td>\n",
       "      <td>139.082615</td>\n",
       "      <td>At the end of the world, the adventure begins....</td>\n",
       "    </tr>\n",
       "    <tr>\n",
       "      <th>2</th>\n",
       "      <td>Spectre</td>\n",
       "      <td>A Plan No One Escapes</td>\n",
       "      <td>A cryptic message from Bond’s past sends him o...</td>\n",
       "      <td>[{\"id\": 28, \"name\": \"Action\"}, {\"id\": 12, \"nam...</td>\n",
       "      <td>107.376788</td>\n",
       "      <td>A Plan No One Escapes A cryptic message from B...</td>\n",
       "    </tr>\n",
       "    <tr>\n",
       "      <th>3</th>\n",
       "      <td>The Dark Knight Rises</td>\n",
       "      <td>The Legend Ends</td>\n",
       "      <td>Following the death of District Attorney Harve...</td>\n",
       "      <td>[{\"id\": 28, \"name\": \"Action\"}, {\"id\": 80, \"nam...</td>\n",
       "      <td>112.312950</td>\n",
       "      <td>The Legend Ends Following the death of Distric...</td>\n",
       "    </tr>\n",
       "    <tr>\n",
       "      <th>4</th>\n",
       "      <td>John Carter</td>\n",
       "      <td>Lost in our world, found in another.</td>\n",
       "      <td>John Carter is a war-weary, former military ca...</td>\n",
       "      <td>[{\"id\": 28, \"name\": \"Action\"}, {\"id\": 12, \"nam...</td>\n",
       "      <td>43.926995</td>\n",
       "      <td>Lost in our world, found in another. John Cart...</td>\n",
       "    </tr>\n",
       "  </tbody>\n",
       "</table>\n",
       "</div>"
      ],
      "text/plain": [
       "                                      title  \\\n",
       "0                                    Avatar   \n",
       "1  Pirates of the Caribbean: At World's End   \n",
       "2                                   Spectre   \n",
       "3                     The Dark Knight Rises   \n",
       "4                               John Carter   \n",
       "\n",
       "                                          tagline  \\\n",
       "0                     Enter the World of Pandora.   \n",
       "1  At the end of the world, the adventure begins.   \n",
       "2                           A Plan No One Escapes   \n",
       "3                                 The Legend Ends   \n",
       "4            Lost in our world, found in another.   \n",
       "\n",
       "                                            overview  \\\n",
       "0  In the 22nd century, a paraplegic Marine is di...   \n",
       "1  Captain Barbossa, long believed to be dead, ha...   \n",
       "2  A cryptic message from Bond’s past sends him o...   \n",
       "3  Following the death of District Attorney Harve...   \n",
       "4  John Carter is a war-weary, former military ca...   \n",
       "\n",
       "                                              genres  popularity  \\\n",
       "0  [{\"id\": 28, \"name\": \"Action\"}, {\"id\": 12, \"nam...  150.437577   \n",
       "1  [{\"id\": 12, \"name\": \"Adventure\"}, {\"id\": 14, \"...  139.082615   \n",
       "2  [{\"id\": 28, \"name\": \"Action\"}, {\"id\": 12, \"nam...  107.376788   \n",
       "3  [{\"id\": 28, \"name\": \"Action\"}, {\"id\": 80, \"nam...  112.312950   \n",
       "4  [{\"id\": 28, \"name\": \"Action\"}, {\"id\": 12, \"nam...   43.926995   \n",
       "\n",
       "                                         description  \n",
       "0  Enter the World of Pandora. In the 22nd centur...  \n",
       "1  At the end of the world, the adventure begins....  \n",
       "2  A Plan No One Escapes A cryptic message from B...  \n",
       "3  The Legend Ends Following the death of Distric...  \n",
       "4  Lost in our world, found in another. John Cart...  "
      ]
     },
     "metadata": {},
     "output_type": "display_data"
    }
   ],
   "source": [
    "df.tagline.fillna('', inplace=True)\n",
    "df.dropna(inplace=True)\n",
    "\n",
    "display (df.info())\n",
    "\n",
    "display (df.head())"
   ]
  },
  {
   "cell_type": "markdown",
   "metadata": {},
   "source": [
    "### Building the Movie Recommender function by doing basic text pre-processing, feature engineering and document similarity computation. \n"
   ]
  },
  {
   "cell_type": "code",
   "execution_count": 6,
   "metadata": {
    "tags": []
   },
   "outputs": [
    {
     "data": {
      "text/plain": [
       "4800"
      ]
     },
     "execution_count": 6,
     "metadata": {},
     "output_type": "execute_result"
    }
   ],
   "source": [
    "#text pre-processing\n",
    "stop_words = nltk.corpus.stopwords.words('english')\n",
    "\n",
    "def normalize_document(description):\n",
    "    description = re.sub(r'[^a-zA-Z0-9\\s]', '', description, re.I|re.A)\n",
    "    description = description.lower()\n",
    "    description = description.strip()\n",
    "    tokens = nltk.word_tokenize(description)\n",
    "    filtered_tokens = [token for token in tokens if token not in stop_words]\n",
    "    description = ' '.join(filtered_tokens)\n",
    "    return description\n",
    "\n",
    "normalize_description = np.vectorize(normalize_document)\n",
    "\n",
    "norm_description = normalize_description(list(df['description']))\n",
    "len(norm_description)"
   ]
  },
  {
   "cell_type": "code",
   "execution_count": 7,
   "metadata": {
    "tags": []
   },
   "outputs": [
    {
     "data": {
      "text/html": [
       "<div>\n",
       "<style scoped>\n",
       "    .dataframe tbody tr th:only-of-type {\n",
       "        vertical-align: middle;\n",
       "    }\n",
       "\n",
       "    .dataframe tbody tr th {\n",
       "        vertical-align: top;\n",
       "    }\n",
       "\n",
       "    .dataframe thead th {\n",
       "        text-align: right;\n",
       "    }\n",
       "</style>\n",
       "<table border=\"1\" class=\"dataframe\">\n",
       "  <thead>\n",
       "    <tr style=\"text-align: right;\">\n",
       "      <th></th>\n",
       "      <th>0</th>\n",
       "      <th>1</th>\n",
       "      <th>2</th>\n",
       "      <th>3</th>\n",
       "      <th>4</th>\n",
       "      <th>5</th>\n",
       "      <th>6</th>\n",
       "      <th>7</th>\n",
       "      <th>8</th>\n",
       "      <th>9</th>\n",
       "      <th>...</th>\n",
       "      <th>4790</th>\n",
       "      <th>4791</th>\n",
       "      <th>4792</th>\n",
       "      <th>4793</th>\n",
       "      <th>4794</th>\n",
       "      <th>4795</th>\n",
       "      <th>4796</th>\n",
       "      <th>4797</th>\n",
       "      <th>4798</th>\n",
       "      <th>4799</th>\n",
       "    </tr>\n",
       "  </thead>\n",
       "  <tbody>\n",
       "    <tr>\n",
       "      <th>0</th>\n",
       "      <td>1.000000</td>\n",
       "      <td>0.010701</td>\n",
       "      <td>0.000000</td>\n",
       "      <td>0.019030</td>\n",
       "      <td>0.028687</td>\n",
       "      <td>0.024901</td>\n",
       "      <td>0.000000</td>\n",
       "      <td>0.026516</td>\n",
       "      <td>0.000000</td>\n",
       "      <td>0.007420</td>\n",
       "      <td>...</td>\n",
       "      <td>0.009702</td>\n",
       "      <td>0.0</td>\n",
       "      <td>0.023336</td>\n",
       "      <td>0.033549</td>\n",
       "      <td>0.000000</td>\n",
       "      <td>0.000000</td>\n",
       "      <td>0.0</td>\n",
       "      <td>0.006880</td>\n",
       "      <td>0.000000</td>\n",
       "      <td>0.000000</td>\n",
       "    </tr>\n",
       "    <tr>\n",
       "      <th>1</th>\n",
       "      <td>0.010701</td>\n",
       "      <td>1.000000</td>\n",
       "      <td>0.011891</td>\n",
       "      <td>0.000000</td>\n",
       "      <td>0.041623</td>\n",
       "      <td>0.000000</td>\n",
       "      <td>0.014564</td>\n",
       "      <td>0.027122</td>\n",
       "      <td>0.034688</td>\n",
       "      <td>0.007614</td>\n",
       "      <td>...</td>\n",
       "      <td>0.009956</td>\n",
       "      <td>0.0</td>\n",
       "      <td>0.004818</td>\n",
       "      <td>0.000000</td>\n",
       "      <td>0.000000</td>\n",
       "      <td>0.012593</td>\n",
       "      <td>0.0</td>\n",
       "      <td>0.022351</td>\n",
       "      <td>0.013724</td>\n",
       "      <td>0.000000</td>\n",
       "    </tr>\n",
       "    <tr>\n",
       "      <th>2</th>\n",
       "      <td>0.000000</td>\n",
       "      <td>0.011891</td>\n",
       "      <td>1.000000</td>\n",
       "      <td>0.000000</td>\n",
       "      <td>0.000000</td>\n",
       "      <td>0.000000</td>\n",
       "      <td>0.000000</td>\n",
       "      <td>0.022242</td>\n",
       "      <td>0.015854</td>\n",
       "      <td>0.004891</td>\n",
       "      <td>...</td>\n",
       "      <td>0.042617</td>\n",
       "      <td>0.0</td>\n",
       "      <td>0.000000</td>\n",
       "      <td>0.000000</td>\n",
       "      <td>0.016501</td>\n",
       "      <td>0.000000</td>\n",
       "      <td>0.0</td>\n",
       "      <td>0.011661</td>\n",
       "      <td>0.000000</td>\n",
       "      <td>0.003994</td>\n",
       "    </tr>\n",
       "    <tr>\n",
       "      <th>3</th>\n",
       "      <td>0.019030</td>\n",
       "      <td>0.000000</td>\n",
       "      <td>0.000000</td>\n",
       "      <td>1.000000</td>\n",
       "      <td>0.008793</td>\n",
       "      <td>0.000000</td>\n",
       "      <td>0.015976</td>\n",
       "      <td>0.023172</td>\n",
       "      <td>0.027452</td>\n",
       "      <td>0.073610</td>\n",
       "      <td>...</td>\n",
       "      <td>0.000000</td>\n",
       "      <td>0.0</td>\n",
       "      <td>0.009667</td>\n",
       "      <td>0.000000</td>\n",
       "      <td>0.000000</td>\n",
       "      <td>0.000000</td>\n",
       "      <td>0.0</td>\n",
       "      <td>0.028304</td>\n",
       "      <td>0.021785</td>\n",
       "      <td>0.027696</td>\n",
       "    </tr>\n",
       "    <tr>\n",
       "      <th>4</th>\n",
       "      <td>0.028687</td>\n",
       "      <td>0.041623</td>\n",
       "      <td>0.000000</td>\n",
       "      <td>0.008793</td>\n",
       "      <td>1.000000</td>\n",
       "      <td>0.000000</td>\n",
       "      <td>0.022912</td>\n",
       "      <td>0.028676</td>\n",
       "      <td>0.000000</td>\n",
       "      <td>0.023538</td>\n",
       "      <td>...</td>\n",
       "      <td>0.014800</td>\n",
       "      <td>0.0</td>\n",
       "      <td>0.000000</td>\n",
       "      <td>0.000000</td>\n",
       "      <td>0.000000</td>\n",
       "      <td>0.010760</td>\n",
       "      <td>0.0</td>\n",
       "      <td>0.010495</td>\n",
       "      <td>0.000000</td>\n",
       "      <td>0.000000</td>\n",
       "    </tr>\n",
       "  </tbody>\n",
       "</table>\n",
       "<p>5 rows × 4800 columns</p>\n",
       "</div>"
      ],
      "text/plain": [
       "       0         1         2         3         4         5         6     \\\n",
       "0  1.000000  0.010701  0.000000  0.019030  0.028687  0.024901  0.000000   \n",
       "1  0.010701  1.000000  0.011891  0.000000  0.041623  0.000000  0.014564   \n",
       "2  0.000000  0.011891  1.000000  0.000000  0.000000  0.000000  0.000000   \n",
       "3  0.019030  0.000000  0.000000  1.000000  0.008793  0.000000  0.015976   \n",
       "4  0.028687  0.041623  0.000000  0.008793  1.000000  0.000000  0.022912   \n",
       "\n",
       "       7         8         9     ...      4790  4791      4792      4793  \\\n",
       "0  0.026516  0.000000  0.007420  ...  0.009702   0.0  0.023336  0.033549   \n",
       "1  0.027122  0.034688  0.007614  ...  0.009956   0.0  0.004818  0.000000   \n",
       "2  0.022242  0.015854  0.004891  ...  0.042617   0.0  0.000000  0.000000   \n",
       "3  0.023172  0.027452  0.073610  ...  0.000000   0.0  0.009667  0.000000   \n",
       "4  0.028676  0.000000  0.023538  ...  0.014800   0.0  0.000000  0.000000   \n",
       "\n",
       "       4794      4795  4796      4797      4798      4799  \n",
       "0  0.000000  0.000000   0.0  0.006880  0.000000  0.000000  \n",
       "1  0.000000  0.012593   0.0  0.022351  0.013724  0.000000  \n",
       "2  0.016501  0.000000   0.0  0.011661  0.000000  0.003994  \n",
       "3  0.000000  0.000000   0.0  0.028304  0.021785  0.027696  \n",
       "4  0.000000  0.010760   0.0  0.010495  0.000000  0.000000  \n",
       "\n",
       "[5 rows x 4800 columns]"
      ]
     },
     "execution_count": 7,
     "metadata": {},
     "output_type": "execute_result"
    }
   ],
   "source": [
    "# Extracting TFIDF Features and computing Pairwise Document Similarity\n",
    "\n",
    "tf = TfidfVectorizer(ngram_range=(1, 2), min_df=2)\n",
    "tfidf_matrix = tf.fit_transform(norm_description)\n",
    "\n",
    "movie_sim = cosine_similarity(tfidf_matrix)\n",
    "movie_sim_df = pd.DataFrame(movie_sim)\n",
    "\n",
    "movie_sim_df.head()"
   ]
  },
  {
   "cell_type": "markdown",
   "metadata": {},
   "source": [
    "### Getting the list of Movie Titles in the dataset"
   ]
  },
  {
   "cell_type": "code",
   "execution_count": 8,
   "metadata": {
    "tags": []
   },
   "outputs": [
    {
     "name": "stdout",
     "output_type": "stream",
     "text": [
      "['Avatar' \"Pirates of the Caribbean: At World's End\" 'Spectre' ...\n",
      " 'Signed, Sealed, Delivered' 'Shanghai Calling' 'My Date with Drew'] \n",
      " (4800,)\n"
     ]
    }
   ],
   "source": [
    "movie_titles = df['title'].values\n",
    "print(movie_titles, '\\n', movie_titles.shape)"
   ]
  },
  {
   "cell_type": "markdown",
   "metadata": {},
   "source": [
    "### The function to recommend top 5 similar movies for any movie in the dataset"
   ]
  },
  {
   "cell_type": "code",
   "execution_count": 9,
   "metadata": {
    "tags": []
   },
   "outputs": [],
   "source": [
    "def movie_recommender(movie_title, movies=movie_titles, movie_sims=movie_sim_df):\n",
    "    \n",
    "    movie_index = np.where(movies == movie_title)[0][0]\n",
    "    movie_similarities = movie_sims.iloc[movie_index].values\n",
    "    similar_movie_idxs = np.argsort(-movie_similarities)[1:6]\n",
    "    similar_movies = movies[similar_movie_idxs]\n",
    "    \n",
    "    return similar_movies"
   ]
  },
  {
   "cell_type": "markdown",
   "metadata": {},
   "source": [
    "## Sorting the dataset by Popular Movies"
   ]
  },
  {
   "cell_type": "code",
   "execution_count": 10,
   "metadata": {
    "tags": []
   },
   "outputs": [
    {
     "data": {
      "text/html": [
       "<div>\n",
       "<style scoped>\n",
       "    .dataframe tbody tr th:only-of-type {\n",
       "        vertical-align: middle;\n",
       "    }\n",
       "\n",
       "    .dataframe tbody tr th {\n",
       "        vertical-align: top;\n",
       "    }\n",
       "\n",
       "    .dataframe thead th {\n",
       "        text-align: right;\n",
       "    }\n",
       "</style>\n",
       "<table border=\"1\" class=\"dataframe\">\n",
       "  <thead>\n",
       "    <tr style=\"text-align: right;\">\n",
       "      <th></th>\n",
       "      <th>title</th>\n",
       "      <th>tagline</th>\n",
       "      <th>overview</th>\n",
       "      <th>genres</th>\n",
       "      <th>popularity</th>\n",
       "      <th>description</th>\n",
       "    </tr>\n",
       "  </thead>\n",
       "  <tbody>\n",
       "    <tr>\n",
       "      <th>546</th>\n",
       "      <td>Minions</td>\n",
       "      <td>Before Gru, they had a history of bad bosses</td>\n",
       "      <td>Minions Stuart, Kevin and Bob are recruited by...</td>\n",
       "      <td>[{\"id\": 10751, \"name\": \"Family\"}, {\"id\": 16, \"...</td>\n",
       "      <td>875.581305</td>\n",
       "      <td>Before Gru, they had a history of bad bosses M...</td>\n",
       "    </tr>\n",
       "    <tr>\n",
       "      <th>95</th>\n",
       "      <td>Interstellar</td>\n",
       "      <td>Mankind was born on Earth. It was never meant ...</td>\n",
       "      <td>Interstellar chronicles the adventures of a gr...</td>\n",
       "      <td>[{\"id\": 12, \"name\": \"Adventure\"}, {\"id\": 18, \"...</td>\n",
       "      <td>724.247784</td>\n",
       "      <td>Mankind was born on Earth. It was never meant ...</td>\n",
       "    </tr>\n",
       "    <tr>\n",
       "      <th>788</th>\n",
       "      <td>Deadpool</td>\n",
       "      <td>Witness the beginning of a happy ending</td>\n",
       "      <td>Deadpool tells the origin story of former Spec...</td>\n",
       "      <td>[{\"id\": 28, \"name\": \"Action\"}, {\"id\": 12, \"nam...</td>\n",
       "      <td>514.569956</td>\n",
       "      <td>Witness the beginning of a happy ending Deadpo...</td>\n",
       "    </tr>\n",
       "    <tr>\n",
       "      <th>94</th>\n",
       "      <td>Guardians of the Galaxy</td>\n",
       "      <td>All heroes start somewhere.</td>\n",
       "      <td>Light years from Earth, 26 years after being a...</td>\n",
       "      <td>[{\"id\": 28, \"name\": \"Action\"}, {\"id\": 878, \"na...</td>\n",
       "      <td>481.098624</td>\n",
       "      <td>All heroes start somewhere. Light years from E...</td>\n",
       "    </tr>\n",
       "    <tr>\n",
       "      <th>127</th>\n",
       "      <td>Mad Max: Fury Road</td>\n",
       "      <td>What a Lovely Day.</td>\n",
       "      <td>An apocalyptic story set in the furthest reach...</td>\n",
       "      <td>[{\"id\": 28, \"name\": \"Action\"}, {\"id\": 12, \"nam...</td>\n",
       "      <td>434.278564</td>\n",
       "      <td>What a Lovely Day. An apocalyptic story set in...</td>\n",
       "    </tr>\n",
       "    <tr>\n",
       "      <th>28</th>\n",
       "      <td>Jurassic World</td>\n",
       "      <td>The park is open.</td>\n",
       "      <td>Twenty-two years after the events of Jurassic ...</td>\n",
       "      <td>[{\"id\": 28, \"name\": \"Action\"}, {\"id\": 12, \"nam...</td>\n",
       "      <td>418.708552</td>\n",
       "      <td>The park is open. Twenty-two years after the e...</td>\n",
       "    </tr>\n",
       "    <tr>\n",
       "      <th>199</th>\n",
       "      <td>Pirates of the Caribbean: The Curse of the Bla...</td>\n",
       "      <td>Prepare to be blown out of the water.</td>\n",
       "      <td>Jack Sparrow, a freewheeling 17th-century pira...</td>\n",
       "      <td>[{\"id\": 12, \"name\": \"Adventure\"}, {\"id\": 14, \"...</td>\n",
       "      <td>271.972889</td>\n",
       "      <td>Prepare to be blown out of the water. Jack Spa...</td>\n",
       "    </tr>\n",
       "    <tr>\n",
       "      <th>82</th>\n",
       "      <td>Dawn of the Planet of the Apes</td>\n",
       "      <td>One last chance for peace.</td>\n",
       "      <td>A group of scientists in San Francisco struggl...</td>\n",
       "      <td>[{\"id\": 878, \"name\": \"Science Fiction\"}, {\"id\"...</td>\n",
       "      <td>243.791743</td>\n",
       "      <td>One last chance for peace. A group of scientis...</td>\n",
       "    </tr>\n",
       "    <tr>\n",
       "      <th>200</th>\n",
       "      <td>The Hunger Games: Mockingjay - Part 1</td>\n",
       "      <td>Fire burns brighter in the darkness</td>\n",
       "      <td>Katniss Everdeen reluctantly becomes the symbo...</td>\n",
       "      <td>[{\"id\": 878, \"name\": \"Science Fiction\"}, {\"id\"...</td>\n",
       "      <td>206.227151</td>\n",
       "      <td>Fire burns brighter in the darkness Katniss Ev...</td>\n",
       "    </tr>\n",
       "    <tr>\n",
       "      <th>88</th>\n",
       "      <td>Big Hero 6</td>\n",
       "      <td>From the creators of Wreck-it Ralph and Frozen</td>\n",
       "      <td>The special bond that develops between plus-si...</td>\n",
       "      <td>[{\"id\": 12, \"name\": \"Adventure\"}, {\"id\": 10751...</td>\n",
       "      <td>203.734590</td>\n",
       "      <td>From the creators of Wreck-it Ralph and Frozen...</td>\n",
       "    </tr>\n",
       "  </tbody>\n",
       "</table>\n",
       "</div>"
      ],
      "text/plain": [
       "                                                 title  \\\n",
       "546                                            Minions   \n",
       "95                                        Interstellar   \n",
       "788                                           Deadpool   \n",
       "94                             Guardians of the Galaxy   \n",
       "127                                 Mad Max: Fury Road   \n",
       "28                                      Jurassic World   \n",
       "199  Pirates of the Caribbean: The Curse of the Bla...   \n",
       "82                      Dawn of the Planet of the Apes   \n",
       "200              The Hunger Games: Mockingjay - Part 1   \n",
       "88                                          Big Hero 6   \n",
       "\n",
       "                                               tagline  \\\n",
       "546       Before Gru, they had a history of bad bosses   \n",
       "95   Mankind was born on Earth. It was never meant ...   \n",
       "788            Witness the beginning of a happy ending   \n",
       "94                         All heroes start somewhere.   \n",
       "127                                 What a Lovely Day.   \n",
       "28                                   The park is open.   \n",
       "199              Prepare to be blown out of the water.   \n",
       "82                          One last chance for peace.   \n",
       "200                Fire burns brighter in the darkness   \n",
       "88      From the creators of Wreck-it Ralph and Frozen   \n",
       "\n",
       "                                              overview  \\\n",
       "546  Minions Stuart, Kevin and Bob are recruited by...   \n",
       "95   Interstellar chronicles the adventures of a gr...   \n",
       "788  Deadpool tells the origin story of former Spec...   \n",
       "94   Light years from Earth, 26 years after being a...   \n",
       "127  An apocalyptic story set in the furthest reach...   \n",
       "28   Twenty-two years after the events of Jurassic ...   \n",
       "199  Jack Sparrow, a freewheeling 17th-century pira...   \n",
       "82   A group of scientists in San Francisco struggl...   \n",
       "200  Katniss Everdeen reluctantly becomes the symbo...   \n",
       "88   The special bond that develops between plus-si...   \n",
       "\n",
       "                                                genres  popularity  \\\n",
       "546  [{\"id\": 10751, \"name\": \"Family\"}, {\"id\": 16, \"...  875.581305   \n",
       "95   [{\"id\": 12, \"name\": \"Adventure\"}, {\"id\": 18, \"...  724.247784   \n",
       "788  [{\"id\": 28, \"name\": \"Action\"}, {\"id\": 12, \"nam...  514.569956   \n",
       "94   [{\"id\": 28, \"name\": \"Action\"}, {\"id\": 878, \"na...  481.098624   \n",
       "127  [{\"id\": 28, \"name\": \"Action\"}, {\"id\": 12, \"nam...  434.278564   \n",
       "28   [{\"id\": 28, \"name\": \"Action\"}, {\"id\": 12, \"nam...  418.708552   \n",
       "199  [{\"id\": 12, \"name\": \"Adventure\"}, {\"id\": 14, \"...  271.972889   \n",
       "82   [{\"id\": 878, \"name\": \"Science Fiction\"}, {\"id\"...  243.791743   \n",
       "200  [{\"id\": 878, \"name\": \"Science Fiction\"}, {\"id\"...  206.227151   \n",
       "88   [{\"id\": 12, \"name\": \"Adventure\"}, {\"id\": 10751...  203.734590   \n",
       "\n",
       "                                           description  \n",
       "546  Before Gru, they had a history of bad bosses M...  \n",
       "95   Mankind was born on Earth. It was never meant ...  \n",
       "788  Witness the beginning of a happy ending Deadpo...  \n",
       "94   All heroes start somewhere. Light years from E...  \n",
       "127  What a Lovely Day. An apocalyptic story set in...  \n",
       "28   The park is open. Twenty-two years after the e...  \n",
       "199  Prepare to be blown out of the water. Jack Spa...  \n",
       "82   One last chance for peace. A group of scientis...  \n",
       "200  Fire burns brighter in the darkness Katniss Ev...  \n",
       "88   From the creators of Wreck-it Ralph and Frozen...  "
      ]
     },
     "execution_count": 10,
     "metadata": {},
     "output_type": "execute_result"
    }
   ],
   "source": [
    "pop_movies = df.sort_values(by='popularity', ascending=False)\n",
    "pop_movies.head(10)"
   ]
  },
  {
   "cell_type": "code",
   "execution_count": 11,
   "metadata": {},
   "outputs": [
    {
     "data": {
      "text/plain": [
       "['Minions',\n",
       " 'Interstellar',\n",
       " 'Deadpool',\n",
       " 'Guardians of the Galaxy',\n",
       " 'Mad Max: Fury Road',\n",
       " 'Jurassic World',\n",
       " 'Pirates of the Caribbean: The Curse of the Black Pearl',\n",
       " 'Dawn of the Planet of the Apes',\n",
       " 'The Hunger Games: Mockingjay - Part 1',\n",
       " 'Big Hero 6']"
      ]
     },
     "execution_count": 11,
     "metadata": {},
     "output_type": "execute_result"
    }
   ],
   "source": [
    "# Top 10 Movies by Popularity\n",
    "popular_movies = pop_movies['title'][:10].tolist()\n",
    "popular_movies"
   ]
  },
  {
   "cell_type": "markdown",
   "metadata": {},
   "source": [
    "## Top 5 recommended Movies for the top 10 selected movies using the Recommender system created"
   ]
  },
  {
   "cell_type": "code",
   "execution_count": 12,
   "metadata": {
    "tags": []
   },
   "outputs": [
    {
     "data": {
      "text/html": [
       "<div>\n",
       "<style scoped>\n",
       "    .dataframe tbody tr th:only-of-type {\n",
       "        vertical-align: middle;\n",
       "    }\n",
       "\n",
       "    .dataframe tbody tr th {\n",
       "        vertical-align: top;\n",
       "    }\n",
       "\n",
       "    .dataframe thead th {\n",
       "        text-align: right;\n",
       "    }\n",
       "</style>\n",
       "<table border=\"1\" class=\"dataframe\">\n",
       "  <thead>\n",
       "    <tr style=\"text-align: right;\">\n",
       "      <th></th>\n",
       "      <th>Movie</th>\n",
       "      <th>Recommended Movies</th>\n",
       "    </tr>\n",
       "  </thead>\n",
       "  <tbody>\n",
       "    <tr>\n",
       "      <th>0</th>\n",
       "      <td>Minions</td>\n",
       "      <td>[Despicable Me 2, Despicable Me, Teenage Mutant Ninja Turtles: Out of the Shadows, Superman, Rise of the Guardians]</td>\n",
       "    </tr>\n",
       "    <tr>\n",
       "      <th>1</th>\n",
       "      <td>Interstellar</td>\n",
       "      <td>[Gattaca, Space Cowboys, Space Pirate Captain Harlock, Starship Troopers, Final Destination 2]</td>\n",
       "    </tr>\n",
       "    <tr>\n",
       "      <th>2</th>\n",
       "      <td>Deadpool</td>\n",
       "      <td>[Silent Trigger, Underworld: Evolution, Bronson, Shaft, Don Jon]</td>\n",
       "    </tr>\n",
       "    <tr>\n",
       "      <th>3</th>\n",
       "      <td>Guardians of the Galaxy</td>\n",
       "      <td>[Chasing Mavericks, E.T. the Extra-Terrestrial, American Sniper, The Amazing Spider-Man 2, Hoop Dreams]</td>\n",
       "    </tr>\n",
       "    <tr>\n",
       "      <th>4</th>\n",
       "      <td>Mad Max: Fury Road</td>\n",
       "      <td>[The 6th Day, Star Trek Beyond, Kites, The Orphanage, The Water Diviner]</td>\n",
       "    </tr>\n",
       "    <tr>\n",
       "      <th>5</th>\n",
       "      <td>Jurassic World</td>\n",
       "      <td>[Jurassic Park, The Lost World: Jurassic Park, The Nut Job, National Lampoon's Vacation, Vacation]</td>\n",
       "    </tr>\n",
       "    <tr>\n",
       "      <th>6</th>\n",
       "      <td>Pirates of the Caribbean: The Curse of the Black Pearl</td>\n",
       "      <td>[Pirates of the Caribbean: Dead Man's Chest, The Pirate, Pirates of the Caribbean: On Stranger Tides, The Pirates! In an Adventure with Scientists!, Joyful Noise]</td>\n",
       "    </tr>\n",
       "    <tr>\n",
       "      <th>7</th>\n",
       "      <td>Dawn of the Planet of the Apes</td>\n",
       "      <td>[Battle for the Planet of the Apes, Groove, The Other End of the Line, Chicago Overcoat, Definitely, Maybe]</td>\n",
       "    </tr>\n",
       "    <tr>\n",
       "      <th>8</th>\n",
       "      <td>The Hunger Games: Mockingjay - Part 1</td>\n",
       "      <td>[The Hunger Games: Catching Fire, The Hunger Games: Mockingjay - Part 2, John Carter, For Greater Glory - The True Story of Cristiada, The Proposition]</td>\n",
       "    </tr>\n",
       "    <tr>\n",
       "      <th>9</th>\n",
       "      <td>Big Hero 6</td>\n",
       "      <td>[Wreck-It Ralph, A Home at the End of the World, Phat Girlz, Splice, U.F.O.]</td>\n",
       "    </tr>\n",
       "  </tbody>\n",
       "</table>\n",
       "</div>"
      ],
      "text/plain": [
       "                                                    Movie  \\\n",
       "0                                                 Minions   \n",
       "1                                            Interstellar   \n",
       "2                                                Deadpool   \n",
       "3                                 Guardians of the Galaxy   \n",
       "4                                      Mad Max: Fury Road   \n",
       "5                                          Jurassic World   \n",
       "6  Pirates of the Caribbean: The Curse of the Black Pearl   \n",
       "7                          Dawn of the Planet of the Apes   \n",
       "8                   The Hunger Games: Mockingjay - Part 1   \n",
       "9                                              Big Hero 6   \n",
       "\n",
       "                                                                                                                                                   Recommended Movies  \n",
       "0                                                 [Despicable Me 2, Despicable Me, Teenage Mutant Ninja Turtles: Out of the Shadows, Superman, Rise of the Guardians]  \n",
       "1                                                                      [Gattaca, Space Cowboys, Space Pirate Captain Harlock, Starship Troopers, Final Destination 2]  \n",
       "2                                                                                                    [Silent Trigger, Underworld: Evolution, Bronson, Shaft, Don Jon]  \n",
       "3                                                             [Chasing Mavericks, E.T. the Extra-Terrestrial, American Sniper, The Amazing Spider-Man 2, Hoop Dreams]  \n",
       "4                                                                                            [The 6th Day, Star Trek Beyond, Kites, The Orphanage, The Water Diviner]  \n",
       "5                                                                  [Jurassic Park, The Lost World: Jurassic Park, The Nut Job, National Lampoon's Vacation, Vacation]  \n",
       "6  [Pirates of the Caribbean: Dead Man's Chest, The Pirate, Pirates of the Caribbean: On Stranger Tides, The Pirates! In an Adventure with Scientists!, Joyful Noise]  \n",
       "7                                                         [Battle for the Planet of the Apes, Groove, The Other End of the Line, Chicago Overcoat, Definitely, Maybe]  \n",
       "8             [The Hunger Games: Catching Fire, The Hunger Games: Mockingjay - Part 2, John Carter, For Greater Glory - The True Story of Cristiada, The Proposition]  \n",
       "9                                                                                        [Wreck-It Ralph, A Home at the End of the World, Phat Girlz, Splice, U.F.O.]  "
      ]
     },
     "metadata": {},
     "output_type": "display_data"
    }
   ],
   "source": [
    "recomm_list = []\n",
    "\n",
    "for movie in popular_movies:\n",
    "    recomm = {\n",
    "        'Movie': movie,\n",
    "        'Recommended Movies': movie_recommender(movie_title=movie)\n",
    "    }\n",
    "    recomm_list.append(recomm)\n",
    "\n",
    "recomm_df = pd.DataFrame(recomm_list)\n",
    "\n",
    "pd.set_option('display.max_colwidth', None)\n",
    "display(recomm_df)"
   ]
  },
  {
   "cell_type": "markdown",
   "metadata": {},
   "source": [
    "## Conclusion\n",
    "<p style=\"text-align: justify;\"> The movie recommendation function successfully generates top 5 recommendations for each given movie title. For instance, for the movie \"Minions\", the recommended movies include \"Despicable Me 2\", \"Despicable Me\", \"Teenage Mutant Ninja Turtles: Out of the Shadows\", \"Superman\", and \"Rise of the Guardians\". Similarly, for \"Interstellar\", recommended movies are \"Gattaca\", \"Space Cowboys\", \"Space Pirate Captain Harlock\", \"Starship Troopers\", and \"Final Destination 2\". These recommendations are derived from an analysis of movie metadata, enabling the system to suggest similar movies based on their textual descriptions. </p>"
   ]
  },
  {
   "cell_type": "code",
   "execution_count": null,
   "metadata": {},
   "outputs": [],
   "source": []
  }
 ],
 "metadata": {
  "kernelspec": {
   "display_name": "Python 3 (ipykernel)",
   "language": "python",
   "name": "python3"
  },
  "language_info": {
   "codemirror_mode": {
    "name": "ipython",
    "version": 3
   },
   "file_extension": ".py",
   "mimetype": "text/x-python",
   "name": "python",
   "nbconvert_exporter": "python",
   "pygments_lexer": "ipython3",
   "version": "3.11.5"
  }
 },
 "nbformat": 4,
 "nbformat_minor": 4
}
